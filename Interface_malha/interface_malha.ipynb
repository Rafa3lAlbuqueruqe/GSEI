{
 "cells": [
  {
   "cell_type": "code",
   "execution_count": 1,
   "id": "5014b487",
   "metadata": {},
   "outputs": [
    {
     "name": "stderr",
     "output_type": "stream",
     "text": [
      "WARNING:absl:Compiled the loaded model, but the compiled metrics have yet to be built. `model.compile_metrics` will be empty until you train or evaluate the model.\n"
     ]
    },
    {
     "name": "stdout",
     "output_type": "stream",
     "text": [
      "Modelo carregado com sucesso!\n"
     ]
    }
   ],
   "source": [
    "import os\n",
    "from tensorflow.keras.models import load_model\n",
    "\n",
    "# Corrigir o caminho para o modelo salvo\n",
    "save_path = '../RedesNeuraisMalha/network.h5'\n",
    "\n",
    "# Carregar o modelo salvo\n",
    "model = load_model(save_path)\n",
    "\n",
    "print(\"Modelo carregado com sucesso!\")"
   ]
  },
  {
   "cell_type": "code",
   "execution_count": 12,
   "id": "65aae434",
   "metadata": {},
   "outputs": [
    {
     "name": "stdout",
     "output_type": "stream",
     "text": [
      "\u001b[1m1/1\u001b[0m \u001b[32m━━━━━━━━━━━━━━━━━━━━\u001b[0m\u001b[37m\u001b[0m \u001b[1m0s\u001b[0m 29ms/step\n"
     ]
    }
   ],
   "source": [
    "import tkinter as tk\n",
    "from tkinter import filedialog, messagebox\n",
    "import numpy as np\n",
    "\n",
    "\n",
    "# Função para carregar o arquivo de dados como cvs\n",
    "# def carregar_arquivo():\n",
    "#     file_path = filedialog.askopenfilename(title=\"Selecione o arquivo de dados\", filetypes=[(\"CSV Files\", \"*.csv\"), (\"All Files\", \"*.*\")])\n",
    "#     if file_path:\n",
    "#         entry_arquivo.delete(0, tk.END)\n",
    "#         entry_arquivo.insert(0, file_path)\n",
    "        \n",
    "def carregar_arquivo():\n",
    "    file_path = filedialog.askopenfilename(\n",
    "        title=\"Selecione o arquivo de dados\",\n",
    "        filetypes=[(\"DAT Files\", \"*.dat\"), (\"All Files\", \"*.*\")]\n",
    "    )\n",
    "    if file_path:\n",
    "        entry_arquivo.delete(0, tk.END)\n",
    "        entry_arquivo.insert(0, file_path)\n",
    "\n",
    "def gerar_resultado():\n",
    "    arquivo = entry_arquivo.get()\n",
    "    try:\n",
    "        # Supondo que o arquivo tem duas colunas numéricas sem cabeçalho\n",
    "        dados = np.loadtxt(arquivo, delimiter=',')\n",
    "        if dados.ndim == 1:\n",
    "            dados = dados.reshape(1, -1)\n",
    "        resultado = model.predict(dados)\n",
    "        text_resultado.delete(1.0, tk.END)\n",
    "        text_resultado.insert(tk.END, f\"Resultado da Rede Neural:\\n{resultado}\")\n",
    "    except Exception as e:\n",
    "        messagebox.showerror(\"Erro\", f\"Falha ao processar o arquivo: {e}\")\n",
    "\n",
    "root = tk.Tk()\n",
    "root.title(\"Interface de Predição com Rede Neural\")\n",
    "root.geometry(\"500x350\")\n",
    "root.configure(bg=\"#f0f0f0\")\n",
    "\n",
    "frame = tk.Frame(root, bg=\"#e0e0e0\", padx=20, pady=20, relief=tk.RIDGE, borderwidth=2)\n",
    "frame.pack(pady=30, padx=30, fill=tk.BOTH, expand=True)\n",
    "\n",
    "label_titulo = tk.Label(frame, text=\"Predição com Rede Neural\", font=(\"Arial\", 16, \"bold\"), bg=\"#e0e0e0\")\n",
    "label_titulo.pack(pady=(0, 15))\n",
    "\n",
    "frame_arquivo = tk.Frame(frame, bg=\"#e0e0e0\")\n",
    "frame_arquivo.pack(fill=tk.X, pady=5)\n",
    "label_arquivo = tk.Label(frame_arquivo, text=\"Arquivo de Dados:\", bg=\"#e0e0e0\")\n",
    "label_arquivo.pack(side=tk.LEFT)\n",
    "entry_arquivo = tk.Entry(frame_arquivo, width=35)\n",
    "entry_arquivo.pack(side=tk.LEFT, padx=5)\n",
    "btn_arquivo = tk.Button(frame_arquivo, text=\"Selecionar\", command=carregar_arquivo)\n",
    "btn_arquivo.pack(side=tk.LEFT)\n",
    "\n",
    "btn_gerar = tk.Button(frame, text=\"Gerar Resultado\", font=(\"Arial\", 12), bg=\"#4caf50\", fg=\"white\", command=gerar_resultado)\n",
    "btn_gerar.pack(pady=15, fill=tk.X)\n",
    "\n",
    "text_resultado = tk.Text(frame, height=8, font=(\"Consolas\", 11))\n",
    "text_resultado.pack(fill=tk.BOTH, expand=True, pady=(10, 0))\n",
    "\n",
    "root.mainloop()"
   ]
  }
 ],
 "metadata": {
  "kernelspec": {
   "display_name": "base",
   "language": "python",
   "name": "python3"
  },
  "language_info": {
   "codemirror_mode": {
    "name": "ipython",
    "version": 3
   },
   "file_extension": ".py",
   "mimetype": "text/x-python",
   "name": "python",
   "nbconvert_exporter": "python",
   "pygments_lexer": "ipython3",
   "version": "3.12.7"
  }
 },
 "nbformat": 4,
 "nbformat_minor": 5
}
